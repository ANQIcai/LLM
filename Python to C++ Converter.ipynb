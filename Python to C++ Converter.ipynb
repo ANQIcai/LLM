{
 "cells": [
  {
   "cell_type": "code",
   "execution_count": 32,
   "id": "5addab2c-0538-4266-a541-5141a8fa0722",
   "metadata": {},
   "outputs": [],
   "source": [
    "import os\n",
    "import io\n",
    "import sys\n",
    "from dotenv import load_dotenv\n",
    "from openai import OpenAI\n",
    "import google.generativeai\n",
    "import anthropic\n",
    "from IPython.display import Markdown, display, update_display\n",
    "import gradio as gr\n",
    "import subprocess\n",
   ]
  },
  {
   "cell_type": "code",
   "execution_count": 33,
   "id": "e801a9bb-4e3f-4013-9630-db9bb60094d9",
   "metadata": {},
   "outputs": [],
   "source": [
    "# environment\n",
    "\n",
    "load_dotenv()\n",
    "os.environ['OPENAI_API_KEY'] = os.getenv('OPENAI_API_KEY', 'your-key-if-not-using-env')\n",
    "os.environ['ANTHROPIC_API_KEY'] = os.getenv('ANTHROPIC_API_KEY', 'your-key-if-not-using-env')"
   ]
  },
  {
   "cell_type": "code",
   "execution_count": 34,
   "id": "21b500c2-7954-4f62-810e-c46deb6b20f0",
   "metadata": {},
   "outputs": [],
   "source": [
    "# initialize\n",
    "\n",
    "openai = OpenAI()\n",
    "claude = anthropic.Anthropic()\n",
    "OPENAI_MODEL = \"gpt-4o\"\n",
    "CLAUDE_MODEL = \"claude-3-5-sonnet-20240620\""
   ]
  },
  {
   "cell_type": "code",
   "execution_count": 35,
   "id": "bd3d5f48-b6ee-4058-bc06-d4f5fd7caaa9",
   "metadata": {},
   "outputs": [],
   "source": [
    "system_message = \"You are an assistant that reimplements Python code in high performance C++ for an Intel Mac. \"\n",
    "system_message += \"Respond only with C++ code; use comments sparingly and do not provide any explanation other than occasional comments. \"\n",
    "system_message += \"The C++ response needs to produce an identical output in the fastest possible time.\""
   ]
  },
  {
   "cell_type": "code",
   "execution_count": 36,
   "id": "371c19ab-a4a2-4da9-b009-c1f74eee43d6",
   "metadata": {},
   "outputs": [],
   "source": [
    "def user_prompt_for(python):\n",
    "    user_prompt = \"Rewrite this Python code in C++ with the fastest possible implementation that produces identical output in the least time. \"\n",
    "    user_prompt += \"Respond only with C++ code; do not explain your work other than a few comments. \"\n",
    "    user_prompt += \"Pay attention to number types to ensure no int overflows. Remember to #include all necessary C++ packages such as iomanip.\\n\\n\"\n",
    "    user_prompt += python\n",
    "    return user_prompt"
   ]
  },
  {
   "cell_type": "code",
   "execution_count": 37,
   "id": "8ad670dd-310c-4545-99ca-febe5745b18f",
   "metadata": {},
   "outputs": [],
   "source": [
    "def messages_for(python):\n",
    "    return [\n",
    "        {\"role\": \"system\", \"content\": system_message},\n",
    "        {\"role\": \"user\", \"content\": user_prompt_for(python)}\n",
    "    ]"
   ]
  },
  {
   "cell_type": "code",
   "execution_count": 38,
   "id": "276ff1e9-53de-4fd1-bd6e-0c24d67e410c",
   "metadata": {},
   "outputs": [],
   "source": [
    "def stream_gpt(python):    \n",
    "    stream = openai.chat.completions.create(model=OPENAI_MODEL, messages=messages_for(python), stream=True)\n",
    "    reply = \"\"\n",
    "    for chunk in stream:\n",
    "        fragment = chunk.choices[0].delta.content or \"\"\n",
    "        reply += fragment\n",
    "        yield reply.replace('```cpp\\n','').replace('```','')"
   ]
  },
  {
   "cell_type": "code",
   "execution_count": 39,
   "id": "cb0540dd-01d0-41e2-9888-f92512735a8a",
   "metadata": {},
   "outputs": [],
   "source": [
    "def stream_claude(python):\n",
    "    result = claude.messages.stream(\n",
    "        model=CLAUDE_MODEL,\n",
    "        max_tokens=2000,\n",
    "        system=system_message,\n",
    "        messages=[{\"role\": \"user\", \"content\": user_prompt_for(python)}],\n",
    "    )\n",
    "    reply = \"\"\n",
    "    with result as stream:\n",
    "        for text in stream.text_stream:\n",
    "            reply += text\n",
    "            yield reply.replace('```cpp\\n','').replace('```','')"
   ]
  },
  {
   "cell_type": "code",
   "execution_count": 40,
   "id": "61d41263-caf0-48f3-b3bd-6352e0be4205",
   "metadata": {},
   "outputs": [],
   "source": [
    "def optimize(python, model):\n",
    "    if model==\"GPT\":\n",
    "        result = stream_gpt(python)\n",
    "    elif model==\"Claude\":\n",
    "        result = stream_claude(python)\n",
    "    else:\n",
    "        raise ValueError(\"Unknown model\")\n",
    "    for stream_so_far in result:\n",
    "        yield stream_so_far        "
   ]
  },
  {
   "cell_type": "code",
   "execution_count": 49,
   "id": "032a5101-7fed-4df0-95f3-9bb09b24cc00",
   "metadata": {},
   "outputs": [],
   "source": [
    "def execute_python(code):\n",
    "    try:\n",
    "        # Create temporary directory and file\n",
    "        temp_dir = tempfile.mkdtemp()\n",
    "        python_file = Path(temp_dir) / \"code.py\"\n",
    "        \n",
    "        # Write the code to a temporary file\n",
    "        python_file.write_text(code)\n",
    "        \n",
    "        try:\n",
    "            # Execute the Python script in a separate process\n",
    "            run_result = subprocess.run(\n",
    "                [\"python\", str(python_file)],\n",
    "                capture_output=True,\n",
    "                text=True,\n",
    "                check=True,\n",
    "            )\n",
    "            \n",
    "            return run_result.stdout\n",
    "            \n",
    "        except subprocess.CalledProcessError as e:\n",
    "            return f\"Runtime Error:\\n{e.stderr}\"\n",
    "        except Exception as e:\n",
    "            return f\"Error: {str(e)}\"\n",
    "        finally:\n",
    "            # Clean up temporary files\n",
    "            try:\n",
    "                python_file.unlink(missing_ok=True)\n",
    "                Path(temp_dir).rmdir()\n",
    "            except:\n",
    "                pass\n",
    "                \n",
    "    except Exception as e:\n",
    "        return f\"System Error: {str(e)}\""
   ]
  },
  {
   "cell_type": "code",
   "execution_count": 50,
   "id": "19477eec-63da-427b-bde1-87a374e8a919",
   "metadata": {},
   "outputs": [],
   "source": [
    "def execute_cpp(code):\n",
    "    try:\n",
    "        # Create temporary files\n",
    "        temp_dir = tempfile.mkdtemp()\n",
    "        cpp_file = Path(temp_dir) / \"code.cpp\"\n",
    "        output_file = Path(temp_dir) / \"program\"\n",
    "        \n",
    "        # Write the code to a temporary file\n",
    "        cpp_file.write_text(code)\n",
    "        \n",
    "        try:\n",
    "            # Compile with generic optimizations\n",
    "            compile_cmd = [\n",
    "                \"g++\",\n",
    "                \"-O2\",\n",
    "                \"-std=c++17\",\n",
    "                \"-march=native\",\n",
    "                str(cpp_file),\n",
    "                \"-o\",\n",
    "                str(output_file)\n",
    "            ]\n",
    "            \n",
    "            # Run compilation\n",
    "            compile_result = subprocess.run(\n",
    "                compile_cmd,\n",
    "                capture_output=True,\n",
    "                text=True,\n",
    "                check=True\n",
    "            )\n",
    "            \n",
    "            # Execute the compiled program\n",
    "            run_result = subprocess.run(\n",
    "                [str(output_file)],\n",
    "                capture_output=True,\n",
    "                text=True,\n",
    "                check=True,\n",
    "            )\n",
    "            \n",
    "            return run_result.stdout\n",
    "            \n",
    "        except subprocess.CalledProcessError as e:\n",
    "            return f\"Runtime Error:\\n{e.stderr}\"\n",
    "        except Exception as e:\n",
    "            return f\"Error: {str(e)}\"\n",
    "        finally:\n",
    "            # Clean up temporary files\n",
    "            try:\n",
    "                python_file.unlink(missing_ok=True)\n",
    "                Path(temp_dir).rmdir()\n",
    "            except:\n",
    "                pass\n",
    "                \n",
    "    except Exception as e:\n",
    "        return f\"System Error: {str(e)}\""
   ]
  },
  {
   "cell_type": "code",
   "execution_count": 51,
   "id": "cc57ab33-cb1f-40f5-a8d4-d1221c467750",
   "metadata": {},
   "outputs": [
    {
     "ename": "NameError",
     "evalue": "name 'poutput' is not defined",
     "output_type": "error",
     "traceback": [
      "\u001b[0;31m---------------------------------------------------------------------------\u001b[0m",
      "\u001b[0;31mNameError\u001b[0m                                 Traceback (most recent call last)",
      "Cell \u001b[0;32mIn[51], line 20\u001b[0m\n\u001b[1;32m     15\u001b[0m     cpp_out \u001b[38;5;241m=\u001b[39m gr\u001b[38;5;241m.\u001b[39mTextArea(label\u001b[38;5;241m=\u001b[39m\u001b[38;5;124m\"\u001b[39m\u001b[38;5;124mC++ result:\u001b[39m\u001b[38;5;124m\"\u001b[39m, elem_classes\u001b[38;5;241m=\u001b[39m[\u001b[38;5;124m\"\u001b[39m\u001b[38;5;124mcpp\u001b[39m\u001b[38;5;124m\"\u001b[39m])\n\u001b[1;32m     17\u001b[0m convert\u001b[38;5;241m.\u001b[39mclick(optimize, inputs\u001b[38;5;241m=\u001b[39m[python, model], outputs\u001b[38;5;241m=\u001b[39m[cpp])\n\u001b[1;32m     18\u001b[0m python\u001b[38;5;241m.\u001b[39msubmit(fn\u001b[38;5;241m=\u001b[39mexecute_python, \n\u001b[1;32m     19\u001b[0m              inputs\u001b[38;5;241m=\u001b[39m[python],\n\u001b[0;32m---> 20\u001b[0m              outputs\u001b[38;5;241m=\u001b[39m[\u001b[43mpoutput\u001b[49m])\n\u001b[1;32m     21\u001b[0m python_run\u001b[38;5;241m.\u001b[39mclick(execute_python, inputs\u001b[38;5;241m=\u001b[39m[python], outputs\u001b[38;5;241m=\u001b[39m[python_out])\n\u001b[1;32m     22\u001b[0m cpp_run\u001b[38;5;241m.\u001b[39mclick(execute_cpp, inputs\u001b[38;5;241m=\u001b[39m[cpp], outputs\u001b[38;5;241m=\u001b[39m[cpp_out])\n",
      "\u001b[0;31mNameError\u001b[0m: name 'poutput' is not defined"
     ]
    }
   ],
   "source": [
    "with gr.Blocks() as ui:\n",
    "    gr.Markdown(\"## Convert code from Python to C++\")\n",
    "    with gr.Row():\n",
    "        python = gr.Textbox(label=\"Python code:\", lines=10)\n",
    "        cpp = gr.Textbox(label=\"C++ code:\", lines=10)\n",
    "    with gr.Row():\n",
    "        model = gr.Dropdown([\"GPT\", \"Claude\"], label=\"Select model\", value=\"GPT\")\n",
    "    with gr.Row():\n",
    "        convert = gr.Button(\"Convert code\")\n",
    "    with gr.Row():\n",
    "        python_run = gr.Button(\"Run Python\")\n",
    "        cpp_run = gr.Button(\"Run C++\")\n",
    "    with gr.Row():\n",
    "        python_out = gr.TextArea(label=\"Python result:\", elem_classes=[\"python\"])\n",
    "        cpp_out = gr.TextArea(label=\"C++ result:\", elem_classes=[\"cpp\"])\n",
    "\n",
    "    convert.click(optimize, inputs=[python, model], outputs=[cpp])\n",
    "    python.submit(fn=execute_python, \n",
    "                 inputs=[python],\n",
    "                 outputs=[poutput])\n",
    "    python_run.click(execute_python, inputs=[python], outputs=[python_out])\n",
    "    cpp_run.click(execute_cpp, inputs=[cpp], outputs=[cpp_out])\n",
    "\n",
    "ui.launch(inbrowser=True)"
   ]
  },
  {
   "cell_type": "code",
   "execution_count": null,
   "id": "6efe4b26-c405-4f91-9b5f-0f474b79994c",
   "metadata": {},
   "outputs": [],
   "source": []
  },
  {
   "cell_type": "code",
   "execution_count": null,
   "id": "82f29b28-008a-47c3-986b-40ed5240124c",
   "metadata": {},
   "outputs": [],
   "source": []
  },
  {
   "cell_type": "code",
   "execution_count": null,
   "id": "4f6462fe-fd8c-4562-9cb0-eb1f9bffd0eb",
   "metadata": {},
   "outputs": [],
   "source": []
  }
 ],
 "metadata": {
  "kernelspec": {
   "display_name": "Python 3 (ipykernel)",
   "language": "python",
   "name": "python3"
  },
  "language_info": {
   "codemirror_mode": {
    "name": "ipython",
    "version": 3
   },
   "file_extension": ".py",
   "mimetype": "text/x-python",
   "name": "python",
   "nbconvert_exporter": "python",
   "pygments_lexer": "ipython3",
   "version": "3.11.11"
  }
 },
 "nbformat": 4,
 "nbformat_minor": 5
}
